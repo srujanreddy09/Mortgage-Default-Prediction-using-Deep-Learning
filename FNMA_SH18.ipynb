{
 "cells": [
  {
   "cell_type": "markdown",
   "metadata": {},
   "source": [
    "## **Importing Modules**"
   ]
  },
  {
   "cell_type": "code",
   "execution_count": 45,
   "metadata": {},
   "outputs": [],
   "source": [
    "import warnings\n",
    "warnings.filterwarnings(\"ignore\")\n",
    "import tensorflow as tf\n",
    "import keras\n",
    "\n",
    "import pandas as pd\n",
    "import numpy as np\n",
    "#import seaborn as sns\n",
    "from matplotlib import pyplot as plt\n",
    "%matplotlib inline\n",
    "import glob\n",
    "\n",
    "import random\n",
    "RANDOM_SEED = 42\n",
    "TRAINING_SAMPLE = 0.99\n",
    "BATCH_SIZE = 32\n",
    "LATENT_DIMENSION = 16\n",
    "\n",
    "from sklearn.preprocessing import StandardScaler, LabelBinarizer, MinMaxScaler\n",
    "from sklearn.model_selection import train_test_split\n",
    "from sklearn.utils import class_weight\n",
    "from sklearn_pandas import DataFrameMapper, gen_features\n",
    "\n",
    "from scipy import sparse\n",
    "\n",
    "np.random.seed(RANDOM_SEED)\n",
    "random.seed(RANDOM_SEED)"
   ]
  },
  {
   "cell_type": "code",
   "execution_count": 46,
   "metadata": {
    "scrolled": true
   },
   "outputs": [
    {
     "name": "stdout",
     "output_type": "stream",
     "text": [
      "Available GPUS :  ['/job:localhost/replica:0/task:0/device:GPU:0', '/job:localhost/replica:0/task:0/device:GPU:1']\n"
     ]
    }
   ],
   "source": [
    "print(\"Available GPUS : \", keras.backend.tensorflow_backend._get_available_gpus())"
   ]
  },
  {
   "cell_type": "markdown",
   "metadata": {},
   "source": [
    "## **Loading Data**"
   ]
  },
  {
   "cell_type": "code",
   "execution_count": 47,
   "metadata": {
    "collapsed": true
   },
   "outputs": [],
   "source": [
    "ACQUISITION_FEATURES = [\"LOAN IDENTIFIER\", \n",
    "                             \"ORIGINATION CHANNEL\", \n",
    "                             \"SELLER NAME\", \n",
    "                             \"ORIGINAL INTEREST RATE\", \n",
    "                             \"ORIGINAL UPB\", \n",
    "                             \"ORIGINAL LOAN TERM\", \n",
    "                             \"ORIGINATION DATE\", \n",
    "                             \"FIRST PAYMENT DATE\", \n",
    "                             \"ORIGINAL LOAN-TO-VALUE (LTV)\", \n",
    "                             \"ORIGINAL COMBINED LOAN-TO-VALUE (CLTV)\", \n",
    "                             \"NUMBER OF BORROWERS\", \n",
    "                             \"ORIGINAL DEBT TO INCOME RATIO\", \n",
    "                             \"BORROWER CREDIT SCORE AT ORIGINATION\", \n",
    "                             \"FIRST TIME HOME BUYER INDICATOR\",\n",
    "                             \"LOAN PURPOSE\",\n",
    "                             \"PROPERTY TYPE\",\n",
    "                             \"NUMBER OF UNITS\",\n",
    "                             \"OCCUPANCY TYPE\",\n",
    "                             \"PROPERTY STATE\",\n",
    "                             \"ZIP CODE SHORT\",\n",
    "                             \"PRIMARY MORTGAGE INSURANCE PERCENT\",\n",
    "                             \"PRODUCT TYPE\", \"CO-BORROWER CREDIT SCORE AT ORIGINATION\",\n",
    "                             \"MORTGAGE INSURANCE TYPE\",\n",
    "                             \"RELOCATION MORTGAGE INDICATOR\"]\n",
    "\n",
    "PERFORMANCE_FEATURES = [\"LOAN IDENTIFIER\",\n",
    "                             \"MONTHLY REPORTING PERIOD\",\n",
    "                             \"SERVICER NAME\",\n",
    "                             \"CURRENT INTEREST RATE\",\n",
    "                             \"CURRENT ACTUAL UPB\",\n",
    "                             \"LOAN AGE\",\n",
    "                             \"REMAINING MONTHS TO LEGAL MATURITY\",\n",
    "                             \"ADJUSTED MONTHS TO MATURITY\",\n",
    "                             \"MATURITY DATE\",\n",
    "                             \"METROPOLITAN STATISTICAL AREA (MSA)\",\n",
    "                             \"CURRENT LOAN DELINQUENCY STATUS\",\n",
    "                             \"MODIFICATION FLAG\",\n",
    "                             \"ZERO BALANCE CODE\",\n",
    "                             \"ZERO BALANCE EFFECTIVE DATE\",\n",
    "                             \"LAST PAID INSTALLMENT DATE\",\n",
    "                             \"FORECLOSURE DATE\",\n",
    "                             \"DISPOSITION DATE\",\n",
    "                             \"FORECLOSURE COSTS\",\n",
    "                             \"PROPERTY PRESERVATION AND REPAIR COSTS\",\n",
    "                             \"ASSET RECOVERY COSTS\",\n",
    "                             \"MISCELLANEOUS HOLDING EXPENSES AND CREDITS\",\n",
    "                             \"ASSOCIATED TAXES FOR HOLDING PROPERTY\",\n",
    "                             \"NET SALE PROCEEDS\",\n",
    "                             \"CREDIT ENHANCEMENT PROCEEDS\",\n",
    "                             \"REPURCHASE MAKE WHOLE PROCEEDS\",\n",
    "                             \"OTHER FORECLOSURE PROCEEDS\",\n",
    "                             \"NON INTEREST BEARING UPB\",\n",
    "                             \"PRINCIPAL FORGIVENESS AMOUNT\",\n",
    "                             \"REPURCHASE MAKE WHOLE PROCEEDS FLAG\",\n",
    "                             \"FORECLOSURE PRINCIPAL WRITE-OFF AMOUNT\",\n",
    "                             \"SERVICING ACTIVITY INDICATOR\"]\n",
    "\n",
    "REL_ACQUISITION_FEATURES = [\"LOAN IDENTIFIER\",\n",
    "                            \"BORROWER CREDIT SCORE AT ORIGINATION\",\n",
    "                            \"CO-BORROWER CREDIT SCORE AT ORIGINATION\",\n",
    "                            \"FIRST TIME HOME BUYER INDICATOR\",\n",
    "                            \"MORTGAGE INSURANCE TYPE\",\n",
    "                            \"NUMBER OF BORROWERS\",\n",
    "                            \"NUMBER OF UNITS\",\n",
    "                            \"OCCUPANCY TYPE\",\n",
    "                            \"ORIGINAL COMBINED LOAN-TO-VALUE (CLTV)\",\n",
    "                            \"ORIGINAL DEBT TO INCOME RATIO\",\n",
    "                            \"ORIGINATION CHANNEL\",\n",
    "                            \"ORIGINAL INTEREST RATE\",\n",
    "                            \"ORIGINAL LOAN TERM\",\n",
    "                            \"ORIGINAL LOAN-TO-VALUE (LTV)\",\n",
    "                            \"ORIGINAL UPB\",\n",
    "                            \"PRIMARY MORTGAGE INSURANCE PERCENT\",\n",
    "                            \"PRODUCT TYPE\",\n",
    "                            \"PROPERTY TYPE\",\n",
    "                            \"RELOCATION MORTGAGE INDICATOR\",\n",
    "                            \"SELLER NAME\"]\n",
    "\n",
    "REL_PERFORMANCE_FEATURES = [\"LOAN IDENTIFIER\",\n",
    "                            \"ADJUSTED MONTHS TO MATURITY\",\n",
    "                            \"CURRENT ACTUAL UPB\",\n",
    "                            \"CURRENT INTEREST RATE\",\n",
    "                            \"CURRENT LOAN DELINQUENCY STATUS\",\n",
    "                            \"LOAN AGE\",\n",
    "                            \"MODIFICATION FLAG\",\n",
    "                            \"NON INTEREST BEARING UPB\",\n",
    "                            \"PRINCIPAL FORGIVENESS AMOUNT\",\n",
    "                            \"REMAINING MONTHS TO LEGAL MATURITY\",\n",
    "                            \"SERVICING ACTIVITY INDICATOR\",\n",
    "                            \"ZERO BALANCE CODE\"]"
   ]
  },
  {
   "cell_type": "code",
   "execution_count": 48,
   "metadata": {},
   "outputs": [
    {
     "name": "stdout",
     "output_type": "stream",
     "text": [
      "['Data/2018/Performance_2018Q4.txt', 'Data/2018/Performance_2018Q3.txt', 'Data/2018/Performance_2018Q2.txt', 'Data/2018/Performance_2018Q1.txt']\n",
      "['Data/2018/Acquisition_2018Q4.txt', 'Data/2018/Acquisition_2018Q3.txt', 'Data/2018/Acquisition_2018Q2.txt', 'Data/2018/Acquisition_2018Q1.txt']\n"
     ]
    }
   ],
   "source": [
    "path = \"Data/2018\" # use your path\n",
    "performance_files = glob.glob(path + \"/Performance_*.txt\")\n",
    "acquisition_files = glob.glob(path + \"/Acquisition_*.txt\")\n",
    "\n",
    "print(performance_files)\n",
    "print(acquisition_files)\n",
    "\n",
    "def data_to_dataframe(files, features):\n",
    "    li = []\n",
    "\n",
    "    for filename in files:\n",
    "        df = pd.read_csv(filename, sep = \"|\", names = features, index_col=None, header=0)\n",
    "        li.append(df)\n",
    "\n",
    "    frame = pd.concat(li, axis=0, ignore_index=True)\n",
    "    return frame\n",
    "\n",
    "acq_df = data_to_dataframe(acquisition_files, ACQUISITION_FEATURES)\n",
    "per_df = data_to_dataframe(performance_files, PERFORMANCE_FEATURES)"
   ]
  },
  {
   "cell_type": "code",
   "execution_count": 49,
   "metadata": {
    "collapsed": true
   },
   "outputs": [],
   "source": [
    "per_df = per_df.loc[per_df[\"ZERO BALANCE CODE\"].notnull(), REL_PERFORMANCE_FEATURES]\n",
    "df = per_df.merge(acq_df[REL_ACQUISITION_FEATURES], on = \"LOAN IDENTIFIER\", how = \"inner\")"
   ]
  },
  {
   "cell_type": "code",
   "execution_count": 50,
   "metadata": {},
   "outputs": [
    {
     "data": {
      "text/html": [
       "<div>\n",
       "<style scoped>\n",
       "    .dataframe tbody tr th:only-of-type {\n",
       "        vertical-align: middle;\n",
       "    }\n",
       "\n",
       "    .dataframe tbody tr th {\n",
       "        vertical-align: top;\n",
       "    }\n",
       "\n",
       "    .dataframe thead th {\n",
       "        text-align: right;\n",
       "    }\n",
       "</style>\n",
       "<table border=\"1\" class=\"dataframe\">\n",
       "  <thead>\n",
       "    <tr style=\"text-align: right;\">\n",
       "      <th></th>\n",
       "      <th>LOAN IDENTIFIER</th>\n",
       "      <th>ADJUSTED MONTHS TO MATURITY</th>\n",
       "      <th>CURRENT ACTUAL UPB</th>\n",
       "      <th>CURRENT INTEREST RATE</th>\n",
       "      <th>CURRENT LOAN DELINQUENCY STATUS</th>\n",
       "      <th>LOAN AGE</th>\n",
       "      <th>MODIFICATION FLAG</th>\n",
       "      <th>NON INTEREST BEARING UPB</th>\n",
       "      <th>PRINCIPAL FORGIVENESS AMOUNT</th>\n",
       "      <th>REMAINING MONTHS TO LEGAL MATURITY</th>\n",
       "      <th>...</th>\n",
       "      <th>ORIGINATION CHANNEL</th>\n",
       "      <th>ORIGINAL INTEREST RATE</th>\n",
       "      <th>ORIGINAL LOAN TERM</th>\n",
       "      <th>ORIGINAL LOAN-TO-VALUE (LTV)</th>\n",
       "      <th>ORIGINAL UPB</th>\n",
       "      <th>PRIMARY MORTGAGE INSURANCE PERCENT</th>\n",
       "      <th>PRODUCT TYPE</th>\n",
       "      <th>PROPERTY TYPE</th>\n",
       "      <th>RELOCATION MORTGAGE INDICATOR</th>\n",
       "      <th>SELLER NAME</th>\n",
       "    </tr>\n",
       "  </thead>\n",
       "  <tbody>\n",
       "    <tr>\n",
       "      <th>0</th>\n",
       "      <td>100013508071</td>\n",
       "      <td>0.0</td>\n",
       "      <td>266614.62</td>\n",
       "      <td>5.125</td>\n",
       "      <td>X</td>\n",
       "      <td>8</td>\n",
       "      <td>N</td>\n",
       "      <td>NaN</td>\n",
       "      <td>NaN</td>\n",
       "      <td>352</td>\n",
       "      <td>...</td>\n",
       "      <td>R</td>\n",
       "      <td>5.125</td>\n",
       "      <td>360</td>\n",
       "      <td>80</td>\n",
       "      <td>270000</td>\n",
       "      <td>NaN</td>\n",
       "      <td>FRM</td>\n",
       "      <td>PU</td>\n",
       "      <td>N</td>\n",
       "      <td>PENNYMAC CORP.</td>\n",
       "    </tr>\n",
       "    <tr>\n",
       "      <th>1</th>\n",
       "      <td>100064828729</td>\n",
       "      <td>0.0</td>\n",
       "      <td>178000.00</td>\n",
       "      <td>5.000</td>\n",
       "      <td>X</td>\n",
       "      <td>4</td>\n",
       "      <td>N</td>\n",
       "      <td>NaN</td>\n",
       "      <td>NaN</td>\n",
       "      <td>356</td>\n",
       "      <td>...</td>\n",
       "      <td>R</td>\n",
       "      <td>5.000</td>\n",
       "      <td>360</td>\n",
       "      <td>80</td>\n",
       "      <td>178000</td>\n",
       "      <td>NaN</td>\n",
       "      <td>FRM</td>\n",
       "      <td>PU</td>\n",
       "      <td>N</td>\n",
       "      <td>FREEDOM MORTGAGE CORP.</td>\n",
       "    </tr>\n",
       "    <tr>\n",
       "      <th>2</th>\n",
       "      <td>100070500618</td>\n",
       "      <td>0.0</td>\n",
       "      <td>85000.00</td>\n",
       "      <td>5.875</td>\n",
       "      <td>X</td>\n",
       "      <td>7</td>\n",
       "      <td>N</td>\n",
       "      <td>NaN</td>\n",
       "      <td>NaN</td>\n",
       "      <td>353</td>\n",
       "      <td>...</td>\n",
       "      <td>C</td>\n",
       "      <td>5.875</td>\n",
       "      <td>360</td>\n",
       "      <td>95</td>\n",
       "      <td>85000</td>\n",
       "      <td>16.0</td>\n",
       "      <td>FRM</td>\n",
       "      <td>SF</td>\n",
       "      <td>N</td>\n",
       "      <td>U.S. BANK N.A.</td>\n",
       "    </tr>\n",
       "    <tr>\n",
       "      <th>3</th>\n",
       "      <td>100080606733</td>\n",
       "      <td>0.0</td>\n",
       "      <td>387000.00</td>\n",
       "      <td>4.750</td>\n",
       "      <td>X</td>\n",
       "      <td>6</td>\n",
       "      <td>N</td>\n",
       "      <td>NaN</td>\n",
       "      <td>NaN</td>\n",
       "      <td>354</td>\n",
       "      <td>...</td>\n",
       "      <td>R</td>\n",
       "      <td>4.750</td>\n",
       "      <td>360</td>\n",
       "      <td>80</td>\n",
       "      <td>387000</td>\n",
       "      <td>NaN</td>\n",
       "      <td>FRM</td>\n",
       "      <td>PU</td>\n",
       "      <td>N</td>\n",
       "      <td>FRANKLIN AMERICAN MORTGAGE COMPANY</td>\n",
       "    </tr>\n",
       "    <tr>\n",
       "      <th>4</th>\n",
       "      <td>100085155788</td>\n",
       "      <td>0.0</td>\n",
       "      <td>204101.10</td>\n",
       "      <td>4.875</td>\n",
       "      <td>X</td>\n",
       "      <td>14</td>\n",
       "      <td>N</td>\n",
       "      <td>NaN</td>\n",
       "      <td>NaN</td>\n",
       "      <td>346</td>\n",
       "      <td>...</td>\n",
       "      <td>C</td>\n",
       "      <td>4.875</td>\n",
       "      <td>360</td>\n",
       "      <td>80</td>\n",
       "      <td>208000</td>\n",
       "      <td>NaN</td>\n",
       "      <td>FRM</td>\n",
       "      <td>PU</td>\n",
       "      <td>N</td>\n",
       "      <td>LAKEVIEW LOAN SERVICING, LLC</td>\n",
       "    </tr>\n",
       "  </tbody>\n",
       "</table>\n",
       "<p>5 rows × 31 columns</p>\n",
       "</div>"
      ],
      "text/plain": [
       "   LOAN IDENTIFIER  ADJUSTED MONTHS TO MATURITY  CURRENT ACTUAL UPB  \\\n",
       "0     100013508071                          0.0           266614.62   \n",
       "1     100064828729                          0.0           178000.00   \n",
       "2     100070500618                          0.0            85000.00   \n",
       "3     100080606733                          0.0           387000.00   \n",
       "4     100085155788                          0.0           204101.10   \n",
       "\n",
       "   CURRENT INTEREST RATE CURRENT LOAN DELINQUENCY STATUS  LOAN AGE  \\\n",
       "0                  5.125                               X         8   \n",
       "1                  5.000                               X         4   \n",
       "2                  5.875                               X         7   \n",
       "3                  4.750                               X         6   \n",
       "4                  4.875                               X        14   \n",
       "\n",
       "  MODIFICATION FLAG  NON INTEREST BEARING UPB  PRINCIPAL FORGIVENESS AMOUNT  \\\n",
       "0                 N                       NaN                           NaN   \n",
       "1                 N                       NaN                           NaN   \n",
       "2                 N                       NaN                           NaN   \n",
       "3                 N                       NaN                           NaN   \n",
       "4                 N                       NaN                           NaN   \n",
       "\n",
       "   REMAINING MONTHS TO LEGAL MATURITY  ... ORIGINATION CHANNEL  \\\n",
       "0                                 352  ...                   R   \n",
       "1                                 356  ...                   R   \n",
       "2                                 353  ...                   C   \n",
       "3                                 354  ...                   R   \n",
       "4                                 346  ...                   C   \n",
       "\n",
       "   ORIGINAL INTEREST RATE  ORIGINAL LOAN TERM  ORIGINAL LOAN-TO-VALUE (LTV)  \\\n",
       "0                   5.125                 360                            80   \n",
       "1                   5.000                 360                            80   \n",
       "2                   5.875                 360                            95   \n",
       "3                   4.750                 360                            80   \n",
       "4                   4.875                 360                            80   \n",
       "\n",
       "  ORIGINAL UPB  PRIMARY MORTGAGE INSURANCE PERCENT  PRODUCT TYPE  \\\n",
       "0       270000                                 NaN           FRM   \n",
       "1       178000                                 NaN           FRM   \n",
       "2        85000                                16.0           FRM   \n",
       "3       387000                                 NaN           FRM   \n",
       "4       208000                                 NaN           FRM   \n",
       "\n",
       "   PROPERTY TYPE RELOCATION MORTGAGE INDICATOR  \\\n",
       "0             PU                             N   \n",
       "1             PU                             N   \n",
       "2             SF                             N   \n",
       "3             PU                             N   \n",
       "4             PU                             N   \n",
       "\n",
       "                          SELLER NAME  \n",
       "0                      PENNYMAC CORP.  \n",
       "1              FREEDOM MORTGAGE CORP.  \n",
       "2                      U.S. BANK N.A.  \n",
       "3  FRANKLIN AMERICAN MORTGAGE COMPANY  \n",
       "4        LAKEVIEW LOAN SERVICING, LLC  \n",
       "\n",
       "[5 rows x 31 columns]"
      ]
     },
     "execution_count": 50,
     "metadata": {},
     "output_type": "execute_result"
    }
   ],
   "source": [
    "df.head()"
   ]
  },
  {
   "cell_type": "markdown",
   "metadata": {},
   "source": [
    "## **Data Preprocessing and Cleaning**"
   ]
  },
  {
   "cell_type": "code",
   "execution_count": 51,
   "metadata": {},
   "outputs": [
    {
     "name": "stdout",
     "output_type": "stream",
     "text": [
      "(413802, 31)\n",
      "<class 'pandas.core.frame.DataFrame'>\n",
      "Int64Index: 413802 entries, 0 to 413801\n",
      "Data columns (total 31 columns):\n",
      " #   Column                                   Non-Null Count   Dtype  \n",
      "---  ------                                   --------------   -----  \n",
      " 0   LOAN IDENTIFIER                          413802 non-null  int64  \n",
      " 1   ADJUSTED MONTHS TO MATURITY              413801 non-null  float64\n",
      " 2   CURRENT ACTUAL UPB                       413794 non-null  float64\n",
      " 3   CURRENT INTEREST RATE                    413802 non-null  float64\n",
      " 4   CURRENT LOAN DELINQUENCY STATUS          413304 non-null  object \n",
      " 5   LOAN AGE                                 413802 non-null  int64  \n",
      " 6   MODIFICATION FLAG                        413802 non-null  object \n",
      " 7   NON INTEREST BEARING UPB                 1 non-null       float64\n",
      " 8   PRINCIPAL FORGIVENESS AMOUNT             0 non-null       float64\n",
      " 9   REMAINING MONTHS TO LEGAL MATURITY       413802 non-null  int64  \n",
      " 10  SERVICING ACTIVITY INDICATOR             0 non-null       object \n",
      " 11  ZERO BALANCE CODE                        413802 non-null  float64\n",
      " 12  BORROWER CREDIT SCORE AT ORIGINATION     413412 non-null  float64\n",
      " 13  CO-BORROWER CREDIT SCORE AT ORIGINATION  198333 non-null  float64\n",
      " 14  FIRST TIME HOME BUYER INDICATOR          413802 non-null  object \n",
      " 15  MORTGAGE INSURANCE TYPE                  117932 non-null  float64\n",
      " 16  NUMBER OF BORROWERS                      413802 non-null  int64  \n",
      " 17  NUMBER OF UNITS                          413802 non-null  int64  \n",
      " 18  OCCUPANCY TYPE                           413802 non-null  object \n",
      " 19  ORIGINAL COMBINED LOAN-TO-VALUE (CLTV)   413802 non-null  float64\n",
      " 20  ORIGINAL DEBT TO INCOME RATIO            413705 non-null  float64\n",
      " 21  ORIGINATION CHANNEL                      413802 non-null  object \n",
      " 22  ORIGINAL INTEREST RATE                   413802 non-null  float64\n",
      " 23  ORIGINAL LOAN TERM                       413802 non-null  int64  \n",
      " 24  ORIGINAL LOAN-TO-VALUE (LTV)             413802 non-null  int64  \n",
      " 25  ORIGINAL UPB                             413802 non-null  int64  \n",
      " 26  PRIMARY MORTGAGE INSURANCE PERCENT       117932 non-null  float64\n",
      " 27  PRODUCT TYPE                             413802 non-null  object \n",
      " 28  PROPERTY TYPE                            413802 non-null  object \n",
      " 29  RELOCATION MORTGAGE INDICATOR            413802 non-null  object \n",
      " 30  SELLER NAME                              413802 non-null  object \n",
      "dtypes: float64(13), int64(8), object(10)\n",
      "memory usage: 101.0+ MB\n",
      "None\n",
      "LOAN IDENTIFIER                                 0\n",
      "ADJUSTED MONTHS TO MATURITY                     1\n",
      "CURRENT ACTUAL UPB                              8\n",
      "CURRENT INTEREST RATE                           0\n",
      "CURRENT LOAN DELINQUENCY STATUS               498\n",
      "LOAN AGE                                        0\n",
      "MODIFICATION FLAG                               0\n",
      "NON INTEREST BEARING UPB                   413801\n",
      "PRINCIPAL FORGIVENESS AMOUNT               413802\n",
      "REMAINING MONTHS TO LEGAL MATURITY              0\n",
      "SERVICING ACTIVITY INDICATOR               413802\n",
      "ZERO BALANCE CODE                               0\n",
      "BORROWER CREDIT SCORE AT ORIGINATION          390\n",
      "CO-BORROWER CREDIT SCORE AT ORIGINATION    215469\n",
      "FIRST TIME HOME BUYER INDICATOR                 0\n",
      "MORTGAGE INSURANCE TYPE                    295870\n",
      "NUMBER OF BORROWERS                             0\n",
      "NUMBER OF UNITS                                 0\n",
      "OCCUPANCY TYPE                                  0\n",
      "ORIGINAL COMBINED LOAN-TO-VALUE (CLTV)          0\n",
      "ORIGINAL DEBT TO INCOME RATIO                  97\n",
      "ORIGINATION CHANNEL                             0\n",
      "ORIGINAL INTEREST RATE                          0\n",
      "ORIGINAL LOAN TERM                              0\n",
      "ORIGINAL LOAN-TO-VALUE (LTV)                    0\n",
      "ORIGINAL UPB                                    0\n",
      "PRIMARY MORTGAGE INSURANCE PERCENT         295870\n",
      "PRODUCT TYPE                                    0\n",
      "PROPERTY TYPE                                   0\n",
      "RELOCATION MORTGAGE INDICATOR                   0\n",
      "SELLER NAME                                     0\n",
      "dtype: int64\n"
     ]
    }
   ],
   "source": [
    "# Data Shape and Data Info\n",
    "print(df.shape)\n",
    "print(df.info())\n",
    "# Checking for missing data\n",
    "print(df.isnull().sum())"
   ]
  },
  {
   "cell_type": "code",
   "execution_count": 52,
   "metadata": {
    "collapsed": true
   },
   "outputs": [],
   "source": [
    "df.drop([\"ADJUSTED MONTHS TO MATURITY\", \n",
    "                 \"NON INTEREST BEARING UPB\", \n",
    "                 \"PRINCIPAL FORGIVENESS AMOUNT\",\n",
    "                 \"SERVICING ACTIVITY INDICATOR\",\n",
    "                 \"CO-BORROWER CREDIT SCORE AT ORIGINATION\",\n",
    "                 \"MORTGAGE INSURANCE TYPE\",\n",
    "                 \"PRIMARY MORTGAGE INSURANCE PERCENT\",\n",
    "                 \"CURRENT LOAN DELINQUENCY STATUS\"], axis = 1, inplace = True)"
   ]
  },
  {
   "cell_type": "code",
   "execution_count": 53,
   "metadata": {
    "collapsed": true
   },
   "outputs": [],
   "source": [
    "# Current UPB \n",
    "df[\"CURRENT ACTUAL UPB\"].fillna(df[\"CURRENT ACTUAL UPB\"].mean(), inplace = True)\n",
    "df[\"BORROWER CREDIT SCORE AT ORIGINATION\"].fillna(df[\"BORROWER CREDIT SCORE AT ORIGINATION\"].mean(), inplace = True)\n",
    "df[\"ORIGINAL DEBT TO INCOME RATIO\"].fillna(df[\"ORIGINAL DEBT TO INCOME RATIO\"].mean(), inplace = True)"
   ]
  },
  {
   "cell_type": "code",
   "execution_count": 54,
   "metadata": {
    "collapsed": true
   },
   "outputs": [],
   "source": [
    "## Encoding the target variable\n",
    "# 0 - Defaulted, 1 - Not Defaulted\n",
    "df[\"ZERO BALANCE CODE\"].replace({\n",
    "    1: 1,\n",
    "    2: 0,\n",
    "    3: 0,\n",
    "    6: 0,\n",
    "    9: 0,\n",
    "    15: 1,\n",
    "    16: 1\n",
    "}, inplace = True)"
   ]
  },
  {
   "cell_type": "code",
   "execution_count": 55,
   "metadata": {
    "collapsed": true
   },
   "outputs": [],
   "source": [
    "#sns.distplot(LabelEncoder().fit_transform(df[\"ZERO BALANCE CODE\"]))"
   ]
  },
  {
   "cell_type": "code",
   "execution_count": 56,
   "metadata": {},
   "outputs": [
    {
     "data": {
      "text/plain": [
       "1.0    411882\n",
       "0.0      1920\n",
       "Name: ZERO BALANCE CODE, dtype: int64"
      ]
     },
     "execution_count": 56,
     "metadata": {},
     "output_type": "execute_result"
    }
   ],
   "source": [
    "df[\"ZERO BALANCE CODE\"].value_counts()"
   ]
  },
  {
   "cell_type": "markdown",
   "metadata": {},
   "source": [
    "## **EDA**"
   ]
  },
  {
   "cell_type": "code",
   "execution_count": 57,
   "metadata": {
    "collapsed": true
   },
   "outputs": [],
   "source": [
    "# # Checking multicolinearity between continous features\n",
    "# #correlation matrix\n",
    "# corrmat = df.corr()\n",
    "# f, ax = plt.subplots(figsize=(12, 9))\n",
    "# sns.heatmap(corrmat, vmax=.8, square=True)"
   ]
  },
  {
   "cell_type": "code",
   "execution_count": 58,
   "metadata": {
    "collapsed": true
   },
   "outputs": [],
   "source": [
    "df.drop([\"LOAN IDENTIFIER\", \"ORIGINAL UPB\", \"ORIGINAL LOAN-TO-VALUE (LTV)\", \"ORIGINAL LOAN TERM\", \"ORIGINAL INTEREST RATE\"], axis = 1, inplace = True)"
   ]
  },
  {
   "cell_type": "code",
   "execution_count": 59,
   "metadata": {},
   "outputs": [
    {
     "data": {
      "text/html": [
       "<div>\n",
       "<style scoped>\n",
       "    .dataframe tbody tr th:only-of-type {\n",
       "        vertical-align: middle;\n",
       "    }\n",
       "\n",
       "    .dataframe tbody tr th {\n",
       "        vertical-align: top;\n",
       "    }\n",
       "\n",
       "    .dataframe thead th {\n",
       "        text-align: right;\n",
       "    }\n",
       "</style>\n",
       "<table border=\"1\" class=\"dataframe\">\n",
       "  <thead>\n",
       "    <tr style=\"text-align: right;\">\n",
       "      <th></th>\n",
       "      <th>CURRENT ACTUAL UPB</th>\n",
       "      <th>CURRENT INTEREST RATE</th>\n",
       "      <th>LOAN AGE</th>\n",
       "      <th>MODIFICATION FLAG</th>\n",
       "      <th>REMAINING MONTHS TO LEGAL MATURITY</th>\n",
       "      <th>ZERO BALANCE CODE</th>\n",
       "      <th>BORROWER CREDIT SCORE AT ORIGINATION</th>\n",
       "      <th>FIRST TIME HOME BUYER INDICATOR</th>\n",
       "      <th>NUMBER OF BORROWERS</th>\n",
       "      <th>NUMBER OF UNITS</th>\n",
       "      <th>OCCUPANCY TYPE</th>\n",
       "      <th>ORIGINAL COMBINED LOAN-TO-VALUE (CLTV)</th>\n",
       "      <th>ORIGINAL DEBT TO INCOME RATIO</th>\n",
       "      <th>ORIGINATION CHANNEL</th>\n",
       "      <th>PRODUCT TYPE</th>\n",
       "      <th>PROPERTY TYPE</th>\n",
       "      <th>RELOCATION MORTGAGE INDICATOR</th>\n",
       "      <th>SELLER NAME</th>\n",
       "    </tr>\n",
       "  </thead>\n",
       "  <tbody>\n",
       "    <tr>\n",
       "      <th>0</th>\n",
       "      <td>266614.62</td>\n",
       "      <td>5.125</td>\n",
       "      <td>8</td>\n",
       "      <td>N</td>\n",
       "      <td>352</td>\n",
       "      <td>1.0</td>\n",
       "      <td>718.0</td>\n",
       "      <td>N</td>\n",
       "      <td>2</td>\n",
       "      <td>1</td>\n",
       "      <td>P</td>\n",
       "      <td>80.0</td>\n",
       "      <td>40.0</td>\n",
       "      <td>R</td>\n",
       "      <td>FRM</td>\n",
       "      <td>PU</td>\n",
       "      <td>N</td>\n",
       "      <td>PENNYMAC CORP.</td>\n",
       "    </tr>\n",
       "    <tr>\n",
       "      <th>1</th>\n",
       "      <td>178000.00</td>\n",
       "      <td>5.000</td>\n",
       "      <td>4</td>\n",
       "      <td>N</td>\n",
       "      <td>356</td>\n",
       "      <td>1.0</td>\n",
       "      <td>781.0</td>\n",
       "      <td>N</td>\n",
       "      <td>1</td>\n",
       "      <td>1</td>\n",
       "      <td>P</td>\n",
       "      <td>80.0</td>\n",
       "      <td>35.0</td>\n",
       "      <td>R</td>\n",
       "      <td>FRM</td>\n",
       "      <td>PU</td>\n",
       "      <td>N</td>\n",
       "      <td>FREEDOM MORTGAGE CORP.</td>\n",
       "    </tr>\n",
       "    <tr>\n",
       "      <th>2</th>\n",
       "      <td>85000.00</td>\n",
       "      <td>5.875</td>\n",
       "      <td>7</td>\n",
       "      <td>N</td>\n",
       "      <td>353</td>\n",
       "      <td>1.0</td>\n",
       "      <td>754.0</td>\n",
       "      <td>N</td>\n",
       "      <td>1</td>\n",
       "      <td>1</td>\n",
       "      <td>P</td>\n",
       "      <td>100.0</td>\n",
       "      <td>44.0</td>\n",
       "      <td>C</td>\n",
       "      <td>FRM</td>\n",
       "      <td>SF</td>\n",
       "      <td>N</td>\n",
       "      <td>U.S. BANK N.A.</td>\n",
       "    </tr>\n",
       "    <tr>\n",
       "      <th>3</th>\n",
       "      <td>387000.00</td>\n",
       "      <td>4.750</td>\n",
       "      <td>6</td>\n",
       "      <td>N</td>\n",
       "      <td>354</td>\n",
       "      <td>1.0</td>\n",
       "      <td>805.0</td>\n",
       "      <td>N</td>\n",
       "      <td>2</td>\n",
       "      <td>1</td>\n",
       "      <td>P</td>\n",
       "      <td>80.0</td>\n",
       "      <td>31.0</td>\n",
       "      <td>R</td>\n",
       "      <td>FRM</td>\n",
       "      <td>PU</td>\n",
       "      <td>N</td>\n",
       "      <td>FRANKLIN AMERICAN MORTGAGE COMPANY</td>\n",
       "    </tr>\n",
       "    <tr>\n",
       "      <th>4</th>\n",
       "      <td>204101.10</td>\n",
       "      <td>4.875</td>\n",
       "      <td>14</td>\n",
       "      <td>N</td>\n",
       "      <td>346</td>\n",
       "      <td>1.0</td>\n",
       "      <td>687.0</td>\n",
       "      <td>N</td>\n",
       "      <td>2</td>\n",
       "      <td>1</td>\n",
       "      <td>P</td>\n",
       "      <td>80.0</td>\n",
       "      <td>46.0</td>\n",
       "      <td>C</td>\n",
       "      <td>FRM</td>\n",
       "      <td>PU</td>\n",
       "      <td>N</td>\n",
       "      <td>LAKEVIEW LOAN SERVICING, LLC</td>\n",
       "    </tr>\n",
       "  </tbody>\n",
       "</table>\n",
       "</div>"
      ],
      "text/plain": [
       "   CURRENT ACTUAL UPB  CURRENT INTEREST RATE  LOAN AGE MODIFICATION FLAG  \\\n",
       "0           266614.62                  5.125         8                 N   \n",
       "1           178000.00                  5.000         4                 N   \n",
       "2            85000.00                  5.875         7                 N   \n",
       "3           387000.00                  4.750         6                 N   \n",
       "4           204101.10                  4.875        14                 N   \n",
       "\n",
       "   REMAINING MONTHS TO LEGAL MATURITY  ZERO BALANCE CODE  \\\n",
       "0                                 352                1.0   \n",
       "1                                 356                1.0   \n",
       "2                                 353                1.0   \n",
       "3                                 354                1.0   \n",
       "4                                 346                1.0   \n",
       "\n",
       "   BORROWER CREDIT SCORE AT ORIGINATION FIRST TIME HOME BUYER INDICATOR  \\\n",
       "0                                 718.0                               N   \n",
       "1                                 781.0                               N   \n",
       "2                                 754.0                               N   \n",
       "3                                 805.0                               N   \n",
       "4                                 687.0                               N   \n",
       "\n",
       "   NUMBER OF BORROWERS  NUMBER OF UNITS OCCUPANCY TYPE  \\\n",
       "0                    2                1              P   \n",
       "1                    1                1              P   \n",
       "2                    1                1              P   \n",
       "3                    2                1              P   \n",
       "4                    2                1              P   \n",
       "\n",
       "   ORIGINAL COMBINED LOAN-TO-VALUE (CLTV)  ORIGINAL DEBT TO INCOME RATIO  \\\n",
       "0                                    80.0                           40.0   \n",
       "1                                    80.0                           35.0   \n",
       "2                                   100.0                           44.0   \n",
       "3                                    80.0                           31.0   \n",
       "4                                    80.0                           46.0   \n",
       "\n",
       "  ORIGINATION CHANNEL PRODUCT TYPE PROPERTY TYPE  \\\n",
       "0                   R          FRM            PU   \n",
       "1                   R          FRM            PU   \n",
       "2                   C          FRM            SF   \n",
       "3                   R          FRM            PU   \n",
       "4                   C          FRM            PU   \n",
       "\n",
       "  RELOCATION MORTGAGE INDICATOR                         SELLER NAME  \n",
       "0                             N                      PENNYMAC CORP.  \n",
       "1                             N              FREEDOM MORTGAGE CORP.  \n",
       "2                             N                      U.S. BANK N.A.  \n",
       "3                             N  FRANKLIN AMERICAN MORTGAGE COMPANY  \n",
       "4                             N        LAKEVIEW LOAN SERVICING, LLC  "
      ]
     },
     "execution_count": 59,
     "metadata": {},
     "output_type": "execute_result"
    }
   ],
   "source": [
    "df.head()"
   ]
  },
  {
   "cell_type": "markdown",
   "metadata": {},
   "source": [
    "## Preparing train and test splits¶"
   ]
  },
  {
   "cell_type": "code",
   "execution_count": 60,
   "metadata": {
    "collapsed": true
   },
   "outputs": [],
   "source": [
    "## Split the data into closed and defaulted \n",
    "paid_df = df[df[\"ZERO BALANCE CODE\"] == 1]\n",
    "default_df = df[df[\"ZERO BALANCE CODE\"] == 0]"
   ]
  },
  {
   "cell_type": "code",
   "execution_count": 61,
   "metadata": {
    "collapsed": true
   },
   "outputs": [],
   "source": [
    "## Split into train test\n",
    "# Shuffle the dataset \n",
    "paid_df = paid_df.sample(frac=1).reset_index(drop=True)\n",
    "\n",
    "train_size = int(len(paid_df)*TRAINING_SAMPLE)\n",
    "\n",
    "train_df = paid_df.iloc[:train_size]\n",
    "test_df_paid = paid_df.iloc[train_size:].sample(frac=1).reset_index(drop=True)\n",
    "test_df_default = default_df.sample(frac=1).reset_index(drop=True)"
   ]
  },
  {
   "cell_type": "code",
   "execution_count": 62,
   "metadata": {},
   "outputs": [
    {
     "data": {
      "text/plain": [
       "1.0    4119\n",
       "Name: ZERO BALANCE CODE, dtype: int64"
      ]
     },
     "execution_count": 62,
     "metadata": {},
     "output_type": "execute_result"
    }
   ],
   "source": [
    "test_df_paid[\"ZERO BALANCE CODE\"].value_counts()"
   ]
  },
  {
   "cell_type": "code",
   "execution_count": 63,
   "metadata": {},
   "outputs": [
    {
     "data": {
      "text/plain": [
       "0.0    1920\n",
       "Name: ZERO BALANCE CODE, dtype: int64"
      ]
     },
     "execution_count": 63,
     "metadata": {},
     "output_type": "execute_result"
    }
   ],
   "source": [
    "test_df_default[\"ZERO BALANCE CODE\"].value_counts()"
   ]
  },
  {
   "cell_type": "markdown",
   "metadata": {},
   "source": [
    "## Encoding the Data"
   ]
  },
  {
   "cell_type": "code",
   "execution_count": 64,
   "metadata": {
    "collapsed": true
   },
   "outputs": [],
   "source": [
    "categorical_variables = [\"MODIFICATION FLAG\",\n",
    "                         \"FIRST TIME HOME BUYER INDICATOR\",\n",
    "                         \"OCCUPANCY TYPE\",\n",
    "                         \"ORIGINATION CHANNEL\",\n",
    "                         \"PRODUCT TYPE\",\n",
    "                         \"PROPERTY TYPE\",\n",
    "                         \"RELOCATION MORTGAGE INDICATOR\",\n",
    "                         \"SELLER NAME\"]\n",
    "target_variable = [\"ZERO BALANCE CODE\"]\n",
    "numerical_variables = [[feature] for feature in df.columns if feature not in (categorical_variables + target_variable)]"
   ]
  },
  {
   "cell_type": "code",
   "execution_count": 65,
   "metadata": {
    "collapsed": true
   },
   "outputs": [],
   "source": [
    "def encode_data(dataframe, test_paid, test_default):\n",
    "    \n",
    "    cat_feature_def = gen_features(columns = categorical_variables, classes = [LabelBinarizer])\n",
    "    num_feature_def = gen_features(columns = numerical_variables, classes = [StandardScaler])\n",
    "    \n",
    "    \n",
    "    mapper = DataFrameMapper(cat_feature_def + num_feature_def, drop_cols = target_variable)\n",
    "    \n",
    "    mapper.fit(dataframe)\n",
    "    train_data = mapper.transform(dataframe)\n",
    "    test_paid_data = mapper.transform(test_paid)\n",
    "    test_default_data = mapper.transform(test_default)\n",
    "    \n",
    "    return train_data, test_paid_data, test_default_data"
   ]
  },
  {
   "cell_type": "code",
   "execution_count": 68,
   "metadata": {},
   "outputs": [],
   "source": [
    "train_data, test_input_paid, test_input_default = encode_data(train_df, test_df_paid, test_df_default)"
   ]
  },
  {
   "cell_type": "code",
   "execution_count": 69,
   "metadata": {},
   "outputs": [
    {
     "data": {
      "text/plain": [
       "(407763, 48)"
      ]
     },
     "execution_count": 69,
     "metadata": {},
     "output_type": "execute_result"
    }
   ],
   "source": [
    "train_data.shape"
   ]
  },
  {
   "cell_type": "code",
   "execution_count": 70,
   "metadata": {},
   "outputs": [
    {
     "data": {
      "text/plain": [
       "(4119, 48)"
      ]
     },
     "execution_count": 70,
     "metadata": {},
     "output_type": "execute_result"
    }
   ],
   "source": [
    "test_input_paid.shape"
   ]
  },
  {
   "cell_type": "code",
   "execution_count": 71,
   "metadata": {},
   "outputs": [
    {
     "data": {
      "text/plain": [
       "(1920, 48)"
      ]
     },
     "execution_count": 71,
     "metadata": {},
     "output_type": "execute_result"
    }
   ],
   "source": [
    "test_input_default.shape"
   ]
  },
  {
   "cell_type": "code",
   "execution_count": 72,
   "metadata": {
    "collapsed": true
   },
   "outputs": [],
   "source": [
    "# # Standardizing numerical features\n",
    "# sc_num = StandardScaler()\n",
    "# sc_num.fit(train_df[numerical_variables])\n",
    "\n",
    "# train_num_variables_encoded = sc_num.transform(train_df[numerical_variables])\n",
    "# test_num_paid = sc_num.transform(test_df_paid[numerical_variables])\n",
    "# test_num_default = sc_num.transform(test_df_default[numerical_variables])"
   ]
  },
  {
   "cell_type": "code",
   "execution_count": 73,
   "metadata": {
    "collapsed": true
   },
   "outputs": [],
   "source": [
    "# #One hot encoding categorical variables\n",
    "# one_cat = OneHotEncoder(handle_unknown=\"ignore\")\n",
    "# one_cat.fit(train_df[categorical_variables])\n",
    "\n",
    "# train_cat_variables_encoded = one_cat.transform(train_df[categorical_variables])\n",
    "# test_cat_paid = one_cat.transform(test_df_paid[categorical_variables])\n",
    "# test_cat_default = one_cat.transform(test_df_default[categorical_variables])"
   ]
  },
  {
   "cell_type": "markdown",
   "metadata": {},
   "source": [
    "## Autoencoder"
   ]
  },
  {
   "cell_type": "code",
   "execution_count": 74,
   "metadata": {
    "collapsed": true
   },
   "outputs": [],
   "source": [
    "# Create Input\n",
    "# train_input = sparse.hstack((train_cat_variables_encoded, train_num_variables_encoded)).toarray()\n",
    "train_data = np.expand_dims(train_data, axis = 2)\n",
    "input_shape = (train_data.shape[1], train_data.shape[2])"
   ]
  },
  {
   "cell_type": "code",
   "execution_count": 75,
   "metadata": {
    "collapsed": true
   },
   "outputs": [],
   "source": [
    "# Model\n",
    "def get_model(input_shape):\n",
    "    autoencoder = tf.keras.models.Sequential()\n",
    "    # Encoding Layers\n",
    "    autoencoder.add(tf.keras.layers.Conv1D(64, 2, activation = \"relu\", padding = \"same\", input_shape = input_shape))\n",
    "    autoencoder.add(tf.keras.layers.MaxPool1D(2))\n",
    "    autoencoder.add(tf.keras.layers.BatchNormalization())\n",
    "    autoencoder.add(tf.keras.layers.Conv1D(32, 2, activation = \"relu\", padding = \"same\"))\n",
    "    autoencoder.add(tf.keras.layers.MaxPool1D(2))\n",
    "    autoencoder.add(tf.keras.layers.BatchNormalization())\n",
    "    autoencoder.add(tf.keras.layers.Flatten())\n",
    "    autoencoder.add(tf.keras.layers.Dense(48, activation=\"relu\"))\n",
    "    \n",
    "    # Compressed representation\n",
    "    autoencoder.add(tf.keras.layers.Dense(LATENT_DIMENSION, activation=\"relu\"))\n",
    "    \n",
    "    # Decoding layers\n",
    "    autoencoder.add(tf.keras.layers.Dense(48, activation=\"relu\"))\n",
    "    autoencoder.add(tf.keras.layers.Reshape((12, 4)))\n",
    "    autoencoder.add(tf.keras.layers.Conv1D(32, 2, activation = \"relu\", padding = \"same\"))\n",
    "    autoencoder.add(tf.keras.layers.UpSampling1D(2))\n",
    "    autoencoder.add(tf.keras.layers.BatchNormalization())\n",
    "    autoencoder.add(tf.keras.layers.Conv1D(64, 2, activation = \"relu\", padding = \"same\"))\n",
    "    autoencoder.add(tf.keras.layers.UpSampling1D(2))\n",
    "    autoencoder.add(tf.keras.layers.BatchNormalization())\n",
    "\n",
    "    autoencoder.add(tf.keras.layers.Conv1D(1, 2, padding = \"same\"))\n",
    "    \n",
    "    return autoencoder"
   ]
  },
  {
   "cell_type": "code",
   "execution_count": 76,
   "metadata": {},
   "outputs": [
    {
     "name": "stdout",
     "output_type": "stream",
     "text": [
      "_________________________________________________________________\n",
      "Layer (type)                 Output Shape              Param #   \n",
      "=================================================================\n",
      "conv1d_6 (Conv1D)            (None, 48, 64)            192       \n",
      "_________________________________________________________________\n",
      "max_pooling1d_3 (MaxPooling1 (None, 24, 64)            0         \n",
      "_________________________________________________________________\n",
      "batch_normalization_5 (Batch (None, 24, 64)            256       \n",
      "_________________________________________________________________\n",
      "conv1d_7 (Conv1D)            (None, 24, 32)            4128      \n",
      "_________________________________________________________________\n",
      "max_pooling1d_4 (MaxPooling1 (None, 12, 32)            0         \n",
      "_________________________________________________________________\n",
      "batch_normalization_6 (Batch (None, 12, 32)            128       \n",
      "_________________________________________________________________\n",
      "flatten_2 (Flatten)          (None, 384)               0         \n",
      "_________________________________________________________________\n",
      "dense_4 (Dense)              (None, 48)                18480     \n",
      "_________________________________________________________________\n",
      "dense_5 (Dense)              (None, 16)                784       \n",
      "_________________________________________________________________\n",
      "dense_6 (Dense)              (None, 48)                816       \n",
      "_________________________________________________________________\n",
      "reshape_2 (Reshape)          (None, 12, 4)             0         \n",
      "_________________________________________________________________\n",
      "conv1d_8 (Conv1D)            (None, 12, 32)            288       \n",
      "_________________________________________________________________\n",
      "up_sampling1d_3 (UpSampling1 (None, 24, 32)            0         \n",
      "_________________________________________________________________\n",
      "batch_normalization_7 (Batch (None, 24, 32)            128       \n",
      "_________________________________________________________________\n",
      "conv1d_9 (Conv1D)            (None, 24, 64)            4160      \n",
      "_________________________________________________________________\n",
      "up_sampling1d_4 (UpSampling1 (None, 48, 64)            0         \n",
      "_________________________________________________________________\n",
      "batch_normalization_8 (Batch (None, 48, 64)            256       \n",
      "_________________________________________________________________\n",
      "conv1d_10 (Conv1D)           (None, 48, 1)             129       \n",
      "=================================================================\n",
      "Total params: 29,745\n",
      "Trainable params: 29,361\n",
      "Non-trainable params: 384\n",
      "_________________________________________________________________\n"
     ]
    }
   ],
   "source": [
    "# Compiling Model\n",
    "model = get_model(input_shape)\n",
    "model.compile(optimizer = tf.keras.optimizers.Adam(0.01), loss = \"mae\")\n",
    "model.summary()"
   ]
  },
  {
   "cell_type": "code",
   "execution_count": 77,
   "metadata": {
    "collapsed": true
   },
   "outputs": [],
   "source": [
    "callback=[tf.keras.callbacks.EarlyStopping(patience=5, monitor=\"val_loss\")]"
   ]
  },
  {
   "cell_type": "code",
   "execution_count": 78,
   "metadata": {},
   "outputs": [
    {
     "name": "stdout",
     "output_type": "stream",
     "text": [
      "Train on 305822 samples, validate on 101941 samples\n",
      "Epoch 1/100\n",
      "305822/305822 [==============================] - 171s 559us/step - loss: 0.1140 - val_loss: 0.1114\n",
      "Epoch 2/100\n",
      "305822/305822 [==============================] - 169s 554us/step - loss: 0.0890 - val_loss: 0.0755\n",
      "Epoch 3/100\n",
      "305822/305822 [==============================] - 169s 553us/step - loss: 0.0759 - val_loss: 0.0710\n",
      "Epoch 4/100\n",
      "305822/305822 [==============================] - 169s 553us/step - loss: 0.0724 - val_loss: 0.0685\n",
      "Epoch 5/100\n",
      "305822/305822 [==============================] - 169s 553us/step - loss: 0.0705 - val_loss: 0.0689\n",
      "Epoch 6/100\n",
      "305822/305822 [==============================] - 169s 553us/step - loss: 0.0692 - val_loss: 0.0714\n",
      "Epoch 7/100\n",
      "305822/305822 [==============================] - 169s 554us/step - loss: 0.0683 - val_loss: 0.0674\n",
      "Epoch 8/100\n",
      "305822/305822 [==============================] - 169s 553us/step - loss: 0.0678 - val_loss: 0.0699\n",
      "Epoch 9/100\n",
      "305822/305822 [==============================] - 169s 553us/step - loss: 0.0673 - val_loss: 0.0718\n",
      "Epoch 10/100\n",
      "305822/305822 [==============================] - 169s 554us/step - loss: 0.0667 - val_loss: 0.0615\n",
      "Epoch 11/100\n",
      "305822/305822 [==============================] - 169s 554us/step - loss: 0.0663 - val_loss: 0.0610\n",
      "Epoch 12/100\n",
      "305822/305822 [==============================] - 169s 554us/step - loss: 0.0659 - val_loss: 0.0580\n",
      "Epoch 13/100\n",
      "305822/305822 [==============================] - 169s 553us/step - loss: 0.0658 - val_loss: 0.0659\n",
      "Epoch 14/100\n",
      "305822/305822 [==============================] - 169s 554us/step - loss: 0.0655 - val_loss: 0.0598\n",
      "Epoch 15/100\n",
      "305822/305822 [==============================] - 169s 554us/step - loss: 0.0653 - val_loss: 0.0693\n",
      "Epoch 16/100\n",
      "305822/305822 [==============================] - 169s 554us/step - loss: 0.0650 - val_loss: 0.0607\n",
      "Epoch 17/100\n",
      "305822/305822 [==============================] - 169s 554us/step - loss: 0.0648 - val_loss: 0.0631\n"
     ]
    },
    {
     "data": {
      "text/plain": [
       "<tensorflow.python.keras._impl.keras.callbacks.History at 0x2b042640fb38>"
      ]
     },
     "execution_count": 78,
     "metadata": {},
     "output_type": "execute_result"
    }
   ],
   "source": [
    "model.fit(train_data, train_data, epochs = 100, batch_size = BATCH_SIZE, callbacks=callback, validation_split=0.25)"
   ]
  },
  {
   "cell_type": "markdown",
   "metadata": {
    "collapsed": true
   },
   "source": [
    "## Reconstructing Test Data"
   ]
  },
  {
   "cell_type": "code",
   "execution_count": 79,
   "metadata": {},
   "outputs": [],
   "source": [
    "reconstructions_paid = model.predict(np.expand_dims(test_input_paid, axis = 2))\n",
    "reconstructions_default = model.predict(np.expand_dims(test_input_default, axis = 2))"
   ]
  },
  {
   "cell_type": "code",
   "execution_count": 84,
   "metadata": {},
   "outputs": [
    {
     "data": {
      "text/plain": [
       "(1920,)"
      ]
     },
     "execution_count": 84,
     "metadata": {},
     "output_type": "execute_result"
    }
   ],
   "source": [
    "mae_default.shape"
   ]
  },
  {
   "cell_type": "code",
   "execution_count": 82,
   "metadata": {
    "collapsed": true
   },
   "outputs": [],
   "source": [
    "mae_paid = np.mean(np.abs(np.squeeze(test_input_paid) - np.squeeze(reconstructions_paid)), axis=1)\n",
    "mae_default = np.mean(np.abs(np.squeeze(test_input_default) - np.squeeze(reconstructions_default)), axis=1)"
   ]
  },
  {
   "cell_type": "code",
   "execution_count": 89,
   "metadata": {},
   "outputs": [
    {
     "data": {
      "text/plain": [
       "0.06295656544415648"
      ]
     },
     "execution_count": 89,
     "metadata": {},
     "output_type": "execute_result"
    }
   ],
   "source": [
    "mae_paid.mean()"
   ]
  },
  {
   "cell_type": "code",
   "execution_count": 86,
   "metadata": {},
   "outputs": [
    {
     "data": {
      "text/plain": [
       "0.06928936402903059"
      ]
     },
     "execution_count": 86,
     "metadata": {},
     "output_type": "execute_result"
    }
   ],
   "source": [
    "mae_default.mean()"
   ]
  },
  {
   "cell_type": "markdown",
   "metadata": {},
   "source": [
    "## Plan of Action for the Next Two Weeks\n",
    "\n"
   ]
  },
  {
   "cell_type": "markdown",
   "metadata": {},
   "source": [
    "### 1. Clustering of latent representations(Suggestion by Junyi)\n",
    "#### Train the autoencoder on paid mortgages\n",
    "#### Extract the latent representations for both paid and defaulted mortgages\n",
    "#### Cluster these representations using Kmeans\n",
    "#### t-distributed stochastic neighbor embedding (t-SNE) for visualizing high dimensional data"
   ]
  },
  {
   "cell_type": "markdown",
   "metadata": {},
   "source": [
    "### 2. Categorical data embedding  "
   ]
  },
  {
   "cell_type": "markdown",
   "metadata": {},
   "source": [
    "### 3. Compare performance with existing work\n",
    "#### Deep Learning for Anomaly Detection: A Survey - Chalapathy et.al"
   ]
  }
 ],
 "metadata": {
  "kernelspec": {
   "display_name": "Python 3",
   "language": "python",
   "name": "python3"
  },
  "language_info": {
   "codemirror_mode": {
    "name": "ipython",
    "version": 3
   },
   "file_extension": ".py",
   "mimetype": "text/x-python",
   "name": "python",
   "nbconvert_exporter": "python",
   "pygments_lexer": "ipython3",
   "version": "3.6.8"
  }
 },
 "nbformat": 4,
 "nbformat_minor": 2
}
