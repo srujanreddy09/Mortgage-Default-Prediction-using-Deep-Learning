{
  "nbformat": 4,
  "nbformat_minor": 0,
  "metadata": {
    "colab": {
      "name": "FNMA_Multi_Home",
      "provenance": [],
      "collapsed_sections": [],
      "authorship_tag": "ABX9TyMDONAVx6xarB7az5l+hY58",
      "include_colab_link": true
    },
    "kernelspec": {
      "name": "python3",
      "display_name": "Python 3"
    }
  },
  "cells": [
    {
      "cell_type": "markdown",
      "metadata": {
        "id": "view-in-github",
        "colab_type": "text"
      },
      "source": [
        "<a href=\"https://colab.research.google.com/github/srujanreddy09/Mortgage-Default-Prediction-using-Deep-Learning/blob/main/FNMA_Multi_Home.ipynb\" target=\"_parent\"><img src=\"https://colab.research.google.com/assets/colab-badge.svg\" alt=\"Open In Colab\"/></a>"
      ]
    },
    {
      "cell_type": "markdown",
      "metadata": {
        "id": "8RWBT1_I-V3v"
      },
      "source": [
        "## **Importing Modules**"
      ]
    },
    {
      "cell_type": "code",
      "metadata": {
        "id": "T2nTzs18lp6q"
      },
      "source": [
        "!pip install tensorflow==2.0.0"
      ],
      "execution_count": null,
      "outputs": []
    },
    {
      "cell_type": "code",
      "metadata": {
        "id": "opCYN_vDtTyG"
      },
      "source": [
        "import tensorflow as tf\n",
        "from tensorflow import keras\n",
        "\n",
        "import pandas as pd\n",
        "import numpy as np\n",
        "import seaborn as sns\n",
        "from matplotlib import pyplot as plt\n",
        "\n",
        "import random\n",
        "RANDOM_SEED = 42\n",
        "TRAINING_SAMPLE = 0.95\n",
        "BATCH_SIZE = 64\n",
        "LATENT_DIMENSION = 8\n",
        "\n",
        "from sklearn.preprocessing import StandardScaler, OneHotEncoder, LabelEncoder\n",
        "from scipy import sparse\n",
        "\n",
        "np.random.seed(RANDOM_SEED)\n",
        "tf.random.set_seed(RANDOM_SEED)\n",
        "random.seed(RANDOM_SEED)"
      ],
      "execution_count": 2,
      "outputs": []
    },
    {
      "cell_type": "code",
      "metadata": {
        "id": "yDOLfW67lcOS",
        "outputId": "43044073-f531-4839-945f-ba0e05a3bbae",
        "colab": {
          "base_uri": "https://localhost:8080/",
          "height": 35
        }
      },
      "source": [
        "tf.__version__"
      ],
      "execution_count": 3,
      "outputs": [
        {
          "output_type": "execute_result",
          "data": {
            "application/vnd.google.colaboratory.intrinsic+json": {
              "type": "string"
            },
            "text/plain": [
              "'2.0.0'"
            ]
          },
          "metadata": {
            "tags": []
          },
          "execution_count": 3
        }
      ]
    },
    {
      "cell_type": "markdown",
      "metadata": {
        "id": "RI_3dPLTX5DL"
      },
      "source": [
        "## **Loading the datasets**"
      ]
    },
    {
      "cell_type": "markdown",
      "metadata": {
        "id": "OYO_H69gxCoD"
      },
      "source": [
        "# Choosing Fannie Mae Multifamily dataset to build a preliminary model.  "
      ]
    },
    {
      "cell_type": "code",
      "metadata": {
        "id": "xhFBkmci-lQB",
        "outputId": "8b4a0458-d3ee-4786-d8ed-e786c9ac4351",
        "colab": {
          "base_uri": "https://localhost:8080/",
          "height": 34
        }
      },
      "source": [
        "# Mounting the google drive where the data is present\n",
        "from google.colab import drive\n",
        "drive.mount('/content/gdrive', force_remount=True)\n",
        "root_dir = \"/content/gdrive/My Drive/\""
      ],
      "execution_count": 4,
      "outputs": [
        {
          "output_type": "stream",
          "text": [
            "Mounted at /content/gdrive\n"
          ],
          "name": "stdout"
        }
      ]
    },
    {
      "cell_type": "code",
      "metadata": {
        "id": "Mo-Mfiaxg_a6"
      },
      "source": [
        "# Choosing only relevant features. These can be adjusted\n",
        "relevant_features = [\"Loan Number\",\n",
        "                     \"Note Date\",\n",
        "                     \"Maturity Date - Current\",\n",
        "                     \"Reporting Period Date\",\n",
        "                    \"Loan Acquisition UPB\", \n",
        "                     \"UPB - Current\",\n",
        "                    \"Amortization Type\", \n",
        "                    \"Interest Type\", \n",
        "                    \"Loan Product Type\",\n",
        "                    \"Amortization Term\", \n",
        "                    \"Original Interest Rate\", \n",
        "                    \"Lien Position\", \n",
        "                    \"Loan Acquisition LTV\",\n",
        "                    \"Underwritten DSCR\",\n",
        "                    \"Underwritten DSCR Type\",\n",
        "                    \"Original Term\",\n",
        "                    \"Loan Ever 60+ Days Delinquent\",\n",
        "                    \"SDQ Indicator\",\n",
        "                    \"Number of Properties at Acquisition\",\n",
        "                    \"Property Acquisition Total Unit Count\",\n",
        "                    \"Specific Property Type\",\n",
        "                    \"Property State\",\n",
        "                    \"Physical Occupancy %\",\n",
        "                    \"Loan Payment Status\",\n",
        "                    \"Liquidation/Prepayment Code\",\n",
        "                    ]"
      ],
      "execution_count": 5,
      "outputs": []
    },
    {
      "cell_type": "code",
      "metadata": {
        "id": "o9bUK9yn-xGm"
      },
      "source": [
        "# Path to the data directory\n",
        "mf_data_path = root_dir + \"FNMA/Multi_Family\"\n",
        "# Loading the csv into a dataframe\n",
        "df = pd.read_csv(mf_data_path + \"/FNMA_MF_Loan_Performance_Data_202003.csv\", usecols = relevant_features)\n",
        "# Choosing only the final status of the loans\n",
        "df = df.loc[df[\"Liquidation/Prepayment Code\"].notnull(), relevant_features]"
      ],
      "execution_count": 6,
      "outputs": []
    },
    {
      "cell_type": "markdown",
      "metadata": {
        "id": "vUgdpnmhHBx_"
      },
      "source": [
        "## **Data Processing and Cleaning**"
      ]
    },
    {
      "cell_type": "code",
      "metadata": {
        "id": "vJLOnjEiYtbs",
        "outputId": "5ebeb23f-afe8-4b5e-ac47-948336e5d0d3",
        "colab": {
          "base_uri": "https://localhost:8080/",
          "height": 588
        }
      },
      "source": [
        "# Data Shape and Data Info\n",
        "print(df.shape)\n",
        "print(df.info())"
      ],
      "execution_count": 7,
      "outputs": [
        {
          "output_type": "stream",
          "text": [
            "(27895, 25)\n",
            "<class 'pandas.core.frame.DataFrame'>\n",
            "Int64Index: 27895 entries, 3 to 3439320\n",
            "Data columns (total 25 columns):\n",
            " #   Column                                 Non-Null Count  Dtype  \n",
            "---  ------                                 --------------  -----  \n",
            " 0   Loan Number                            27895 non-null  int64  \n",
            " 1   Note Date                              27895 non-null  object \n",
            " 2   Maturity Date - Current                27895 non-null  object \n",
            " 3   Reporting Period Date                  27895 non-null  object \n",
            " 4   Loan Acquisition UPB                   27895 non-null  object \n",
            " 5   UPB - Current                          27895 non-null  object \n",
            " 6   Amortization Type                      27893 non-null  object \n",
            " 7   Interest Type                          27895 non-null  object \n",
            " 8   Loan Product Type                      27895 non-null  object \n",
            " 9   Amortization Term                      26868 non-null  float64\n",
            " 10  Original Interest Rate                 27895 non-null  float64\n",
            " 11  Lien Position                          27894 non-null  object \n",
            " 12  Loan Acquisition LTV                   27892 non-null  float64\n",
            " 13  Underwritten DSCR                      27886 non-null  float64\n",
            " 14  Underwritten DSCR Type                 27886 non-null  object \n",
            " 15  Original Term                          27895 non-null  int64  \n",
            " 16  Loan Ever 60+ Days Delinquent          27895 non-null  object \n",
            " 17  SDQ Indicator                          27895 non-null  object \n",
            " 18  Number of Properties at Acquisition    27558 non-null  float64\n",
            " 19  Property Acquisition Total Unit Count  27352 non-null  float64\n",
            " 20  Specific Property Type                 27895 non-null  object \n",
            " 21  Property State                         27895 non-null  object \n",
            " 22  Physical Occupancy %                   27352 non-null  float64\n",
            " 23  Loan Payment Status                    27895 non-null  object \n",
            " 24  Liquidation/Prepayment Code            27895 non-null  object \n",
            "dtypes: float64(7), int64(2), object(16)\n",
            "memory usage: 5.5+ MB\n",
            "None\n"
          ],
          "name": "stdout"
        }
      ]
    },
    {
      "cell_type": "code",
      "metadata": {
        "id": "lwiTe41FY57g",
        "outputId": "2f41ba13-5ec5-42ea-99d1-f04f683912f7",
        "colab": {
          "base_uri": "https://localhost:8080/",
          "height": 454
        }
      },
      "source": [
        "# Checking for missing data\n",
        "print(df.isnull().sum())"
      ],
      "execution_count": 8,
      "outputs": [
        {
          "output_type": "stream",
          "text": [
            "Loan Number                                 0\n",
            "Note Date                                   0\n",
            "Maturity Date - Current                     0\n",
            "Reporting Period Date                       0\n",
            "Loan Acquisition UPB                        0\n",
            "UPB - Current                               0\n",
            "Amortization Type                           2\n",
            "Interest Type                               0\n",
            "Loan Product Type                           0\n",
            "Amortization Term                        1027\n",
            "Original Interest Rate                      0\n",
            "Lien Position                               1\n",
            "Loan Acquisition LTV                        3\n",
            "Underwritten DSCR                           9\n",
            "Underwritten DSCR Type                      9\n",
            "Original Term                               0\n",
            "Loan Ever 60+ Days Delinquent               0\n",
            "SDQ Indicator                               0\n",
            "Number of Properties at Acquisition       337\n",
            "Property Acquisition Total Unit Count     543\n",
            "Specific Property Type                      0\n",
            "Property State                              0\n",
            "Physical Occupancy %                      543\n",
            "Loan Payment Status                         0\n",
            "Liquidation/Prepayment Code                 0\n",
            "dtype: int64\n"
          ],
          "name": "stdout"
        }
      ]
    },
    {
      "cell_type": "code",
      "metadata": {
        "id": "gv-6XcsG2RfE"
      },
      "source": [
        "# Changing the data type of date features\n",
        "df[[\"Note Date\", \"Maturity Date - Current\", \"Reporting Period Date\"]] = df[[\"Note Date\", \"Maturity Date - Current\", \"Reporting Period Date\"]].astype(\"datetime64\")\n",
        "# Creating a new delta column (Maturity date - Note Date)\n",
        "df[\"Delta Maturity\"] = (df[\"Maturity Date - Current\"] - df[\"Note Date\"]).apply(lambda x: x.days)\n",
        "df.drop(columns=[\"Maturity Date - Current\", \"Note Date\", \"Reporting Period Date\"], inplace = True)"
      ],
      "execution_count": 9,
      "outputs": []
    },
    {
      "cell_type": "code",
      "metadata": {
        "id": "XXlU6iT0HmSn"
      },
      "source": [
        "# Cleaning the features corresponding to amount in USD \n",
        "df[\"Loan Acquisition UPB\"] = df[\"Loan Acquisition UPB\"].apply(lambda x: x.replace('$', '').replace(',', '')).astype('float')\n",
        "df[\"UPB - Current\"] = df[\"UPB - Current\"].apply(lambda x: x.replace('$', '').replace(',', '')).astype('float')\n",
        "# Creating a new delta column for Unpaid Principal Balance\n",
        "df[\"Delta UPB\"] = df[\"Loan Acquisition UPB\"] - df[\"UPB - Current\"]\n",
        "df.drop(columns=[\"Loan Acquisition UPB\", \"UPB - Current\"], inplace = True)"
      ],
      "execution_count": 10,
      "outputs": []
    },
    {
      "cell_type": "code",
      "metadata": {
        "id": "ZgkTwfGXsjz2"
      },
      "source": [
        "# Dropping NA values from categorical features. Missing data imputation can be explored further\n",
        "df.dropna(subset=[\"Amortization Type\", \"Lien Position\", \"Underwritten DSCR Type\"], inplace=True)"
      ],
      "execution_count": 11,
      "outputs": []
    },
    {
      "cell_type": "code",
      "metadata": {
        "id": "UllB0vbl3oZE"
      },
      "source": [
        "# Filling missing data of continous feature with either mean of mode\n",
        "df[\"Amortization Term\"].fillna(df[\"Amortization Term\"].mode().iloc[0], inplace = True)\n",
        "df[\"Number of Properties at Acquisition\"].fillna(df[\"Number of Properties at Acquisition\"].mode().iloc[0], inplace = True)\n",
        "df[\"Loan Acquisition LTV\"].fillna(df[\"Loan Acquisition LTV\"].mean(), inplace = True)\n",
        "df[\"Property Acquisition Total Unit Count\"].fillna(df[\"Property Acquisition Total Unit Count\"].mean(), inplace = True)\n",
        "df[\"Physical Occupancy %\"].fillna(100.0, inplace = True)"
      ],
      "execution_count": 12,
      "outputs": []
    },
    {
      "cell_type": "code",
      "metadata": {
        "id": "YYUKFmzbn3xV"
      },
      "source": [
        "## Encoding the target variable\n",
        "# 0 - Defaulted, 1 - Not Defaulted\n",
        "df[\"Liquidation/Prepayment Code\"].replace({\n",
        "    \"Deed-in-Lieu\": 0,\n",
        "    \"Discounted Payoff\": 1,\n",
        "    \"Dissolution\": 1,\n",
        "    \"Foreclosure\": 0,\n",
        "    \"Fully Paid, Matured\": 1,\n",
        "    \"Fully Paid, Prepaid\": 1,\n",
        "    \"Fully Paid, Refinanced\": 1,\n",
        "    \"Repurchase\": 1,\n",
        "    \"Substitution\": 1,\n",
        "    \"Third Party Sale\": 0,\n",
        "    \"Other Liquidation\": 1\n",
        "}, inplace = True)"
      ],
      "execution_count": 13,
      "outputs": []
    },
    {
      "cell_type": "code",
      "metadata": {
        "id": "EijPtdZzpzPV",
        "outputId": "9fbb2d62-0df5-4a55-de41-b4c2a70d95f6",
        "colab": {
          "base_uri": "https://localhost:8080/",
          "height": 335
        }
      },
      "source": [
        "#Check if the data is imbalanced\n",
        "sns.distplot(LabelEncoder().fit_transform(df[\"Liquidation/Prepayment Code\"]))"
      ],
      "execution_count": 14,
      "outputs": [
        {
          "output_type": "stream",
          "text": [
            "/usr/local/lib/python3.6/dist-packages/seaborn/distributions.py:2551: FutureWarning: `distplot` is a deprecated function and will be removed in a future version. Please adapt your code to use either `displot` (a figure-level function with similar flexibility) or `histplot` (an axes-level function for histograms).\n",
            "  warnings.warn(msg, FutureWarning)\n"
          ],
          "name": "stderr"
        },
        {
          "output_type": "execute_result",
          "data": {
            "text/plain": [
              "<matplotlib.axes._subplots.AxesSubplot at 0x7f4ec1dbe940>"
            ]
          },
          "metadata": {
            "tags": []
          },
          "execution_count": 14
        },
        {
          "output_type": "display_data",
          "data": {
            "image/png": "[encoded data removed]",
            "text/plain": [
              "<Figure size 432x288 with 1 Axes>"
            ]
          },
          "metadata": {
            "tags": [],
            "needs_background": "light"
          }
        }
      ]
    },
    {
      "cell_type": "code",
      "metadata": {
        "id": "LFzV3UgFq7Yc",
        "outputId": "baff2382-befa-47d0-dc6c-3c0245b9f371",
        "colab": {
          "base_uri": "https://localhost:8080/",
          "height": 67
        }
      },
      "source": [
        "df[\"Liquidation/Prepayment Code\"].value_counts()"
      ],
      "execution_count": 15,
      "outputs": [
        {
          "output_type": "execute_result",
          "data": {
            "text/plain": [
              "1    27221\n",
              "0      664\n",
              "Name: Liquidation/Prepayment Code, dtype: int64"
            ]
          },
          "metadata": {
            "tags": []
          },
          "execution_count": 15
        }
      ]
    },
    {
      "cell_type": "markdown",
      "metadata": {
        "id": "nC4HO_HgQRN8"
      },
      "source": [
        "## **EDA** ##"
      ]
    },
    {
      "cell_type": "code",
      "metadata": {
        "id": "s98fSFZaQTxA",
        "outputId": "8068d13d-9403-41cf-9a89-df96a992f479",
        "colab": {
          "base_uri": "https://localhost:8080/",
          "height": 731
        }
      },
      "source": [
        "# Checking multicolinearity between continous features\n",
        "#correlation matrix\n",
        "corrmat = df.corr()\n",
        "f, ax = plt.subplots(figsize=(12, 9))\n",
        "sns.heatmap(corrmat, vmax=.8, square=True)"
      ],
      "execution_count": 16,
      "outputs": [
        {
          "output_type": "execute_result",
          "data": {
            "text/plain": [
              "<matplotlib.axes._subplots.AxesSubplot at 0x7f4ebee585c0>"
            ]
          },
          "metadata": {
            "tags": []
          },
          "execution_count": 16
        },
        {
          "output_type": "display_data",
          "data": {
            "image/png": "[encoded data removed]",
            "text/plain": [
              "<Figure size 864x648 with 2 Axes>"
            ]
          },
          "metadata": {
            "tags": [],
            "needs_background": "light"
          }
        }
      ]
    },
    {
      "cell_type": "code",
      "metadata": {
        "id": "4Z1z29TARb7F"
      },
      "source": [
        "## From the above heatmap, it is clear that original term and delta maturity have a high colinearity. Hence, dropping one of them.\n",
        "df.drop(columns=[\"Delta Maturity\"], inplace=True)"
      ],
      "execution_count": 17,
      "outputs": []
    },
    {
      "cell_type": "markdown",
      "metadata": {
        "id": "HkGY0x3Q1Zt3"
      },
      "source": [
        "## **Preparing train and test splits**"
      ]
    },
    {
      "cell_type": "code",
      "metadata": {
        "id": "54nTVSLBMXwz"
      },
      "source": [
        "## Split the data into closed and defaulted \n",
        "paid_df = df[df[\"Liquidation/Prepayment Code\"] == 1]\n",
        "default_df = df[df[\"Liquidation/Prepayment Code\"] == 0]"
      ],
      "execution_count": 18,
      "outputs": []
    },
    {
      "cell_type": "code",
      "metadata": {
        "id": "18G7EuytOYJH"
      },
      "source": [
        "## Split into train test\n",
        "# Shuffle the dataset \n",
        "paid_df = paid_df.sample(frac=1).reset_index(drop=True)\n",
        "\n",
        "train_size = int(len(paid_df)*TRAINING_SAMPLE)\n",
        "\n",
        "train_df = paid_df.iloc[:train_size].drop(\"Liquidation/Prepayment Code\", axis=1)\n",
        "test_df_paid = paid_df.iloc[train_size:].sample(frac=1)\n",
        "test_df_default = default_df.sample(frac=1)"
      ],
      "execution_count": 19,
      "outputs": []
    },
    {
      "cell_type": "code",
      "metadata": {
        "id": "HZHtPNb7QWhr",
        "outputId": "5af1b278-900e-47ad-fa44-6f1a885747e7",
        "colab": {
          "base_uri": "https://localhost:8080/",
          "height": 50
        }
      },
      "source": [
        "test_df_paid[\"Liquidation/Prepayment Code\"].value_counts()"
      ],
      "execution_count": 20,
      "outputs": [
        {
          "output_type": "execute_result",
          "data": {
            "text/plain": [
              "1    1362\n",
              "Name: Liquidation/Prepayment Code, dtype: int64"
            ]
          },
          "metadata": {
            "tags": []
          },
          "execution_count": 20
        }
      ]
    },
    {
      "cell_type": "code",
      "metadata": {
        "id": "tYBm0VOK9jW2",
        "outputId": "4a59e364-009a-48f7-91ae-5ae5d5fb8d6d",
        "colab": {
          "base_uri": "https://localhost:8080/",
          "height": 50
        }
      },
      "source": [
        "test_df_default[\"Liquidation/Prepayment Code\"].value_counts()"
      ],
      "execution_count": 21,
      "outputs": [
        {
          "output_type": "execute_result",
          "data": {
            "text/plain": [
              "0    664\n",
              "Name: Liquidation/Prepayment Code, dtype: int64"
            ]
          },
          "metadata": {
            "tags": []
          },
          "execution_count": 21
        }
      ]
    },
    {
      "cell_type": "code",
      "metadata": {
        "id": "v9B0vqW_zz76"
      },
      "source": [
        "test_df_paid.drop(\"Liquidation/Prepayment Code\", axis=1, inplace=True)\n",
        "test_df_default.drop(\"Liquidation/Prepayment Code\", axis=1, inplace= True)"
      ],
      "execution_count": 22,
      "outputs": []
    },
    {
      "cell_type": "markdown",
      "metadata": {
        "id": "30xvf2vFXa13"
      },
      "source": [
        "## **Encoding the Data**"
      ]
    },
    {
      "cell_type": "code",
      "metadata": {
        "id": "LnFDc3WNYEML"
      },
      "source": [
        "categorical_variables = [\"Amortization Type\", \"Interest Type\", \"Loan Product Type\", \"Lien Position\", \"Underwritten DSCR Type\", \"Loan Ever 60+ Days Delinquent\", \"SDQ Indicator\", \"Specific Property Type\", \"Property State\", \"Loan Payment Status\"]\n",
        "target_variable = [\"Liquidation/Prepayment Code\"]\n",
        "numerical_variables = [feature for feature in df.columns if feature not in (categorical_variables + target_variable)]"
      ],
      "execution_count": 23,
      "outputs": []
    },
    {
      "cell_type": "code",
      "metadata": {
        "id": "7IFJAohAAo6E"
      },
      "source": [
        "#One hot encoding categorical variables\n",
        "one_cat = OneHotEncoder(handle_unknown=\"ignore\")\n",
        "one_cat.fit(train_df[categorical_variables])\n",
        "\n",
        "train_cat_variables_encoded = one_cat.transform(train_df[categorical_variables])\n",
        "test_cat_paid = one_cat.transform(test_df_paid[categorical_variables])\n",
        "test_cat_default = one_cat.transform(test_df_default[categorical_variables])"
      ],
      "execution_count": 24,
      "outputs": []
    },
    {
      "cell_type": "code",
      "metadata": {
        "id": "Zrj82DSTaCOw"
      },
      "source": [
        "# Standardizing numerical features\n",
        "sc_num = StandardScaler()\n",
        "sc_num.fit(train_df[numerical_variables])\n",
        "\n",
        "train_num_variables_encoded = sc_num.transform(train_df[numerical_variables])\n",
        "test_num_paid = sc_num.transform(test_df_paid[numerical_variables])\n",
        "test_num_default = sc_num.transform(test_df_default[numerical_variables])"
      ],
      "execution_count": 25,
      "outputs": []
    },
    {
      "cell_type": "markdown",
      "metadata": {
        "id": "cvvx8fMeaj-r"
      },
      "source": [
        "## **Autoencoder**"
      ]
    },
    {
      "cell_type": "code",
      "metadata": {
        "id": "BLBu_DekaqFF"
      },
      "source": [
        "# Create Input\n",
        "train_input = sparse.hstack((train_cat_variables_encoded, train_num_variables_encoded)).toarray()\n",
        "input_shape = train_input.shape"
      ],
      "execution_count": 26,
      "outputs": []
    },
    {
      "cell_type": "code",
      "metadata": {
        "id": "aMefinIObui3"
      },
      "source": [
        "# Model\n",
        "autoencoder = tf.keras.models.Sequential()\n",
        "# Encoding Layers\n",
        "autoencoder.add(tf.keras.layers.Dense(input_shape[1], activation=\"relu\", input_shape = (input_shape[1], )))\n",
        "autoencoder.add(tf.keras.layers.GaussianNoise(0.05))\n",
        "autoencoder.add(tf.keras.layers.Dense(32, activation=\"relu\"))\n",
        "# Compressed representation\n",
        "autoencoder.add(tf.keras.layers.Dense(LATENT_DIMENSION, activation=\"relu\"))\n",
        "# Decoding layers\n",
        "autoencoder.add(tf.keras.layers.Dense(32, activation=\"relu\"))\n",
        "autoencoder.add(tf.keras.layers.Dense(input_shape[1], activation=\"relu\"))\n",
        "\n",
        "# Compiling Model\n",
        "autoencoder.compile(optimizer = tf.keras.optimizers.Adam(), loss = \"mae\", metrics = [\"mae\"])"
      ],
      "execution_count": 27,
      "outputs": []
    },
    {
      "cell_type": "code",
      "metadata": {
        "id": "JsGNrY1wdH0S",
        "outputId": "98f02aba-1e73-480a-b88d-99a01589dfc3",
        "colab": {
          "base_uri": "https://localhost:8080/",
          "height": 353
        }
      },
      "source": [
        "autoencoder.summary()"
      ],
      "execution_count": 28,
      "outputs": [
        {
          "output_type": "stream",
          "text": [
            "Model: \"sequential\"\n",
            "_________________________________________________________________\n",
            "Layer (type)                 Output Shape              Param #   \n",
            "=================================================================\n",
            "dense (Dense)                (None, 99)                9900      \n",
            "_________________________________________________________________\n",
            "gaussian_noise (GaussianNois (None, 99)                0         \n",
            "_________________________________________________________________\n",
            "dense_1 (Dense)              (None, 32)                3200      \n",
            "_________________________________________________________________\n",
            "dense_2 (Dense)              (None, 8)                 264       \n",
            "_________________________________________________________________\n",
            "dense_3 (Dense)              (None, 32)                288       \n",
            "_________________________________________________________________\n",
            "dense_4 (Dense)              (None, 99)                3267      \n",
            "=================================================================\n",
            "Total params: 16,919\n",
            "Trainable params: 16,919\n",
            "Non-trainable params: 0\n",
            "_________________________________________________________________\n"
          ],
          "name": "stdout"
        }
      ]
    },
    {
      "cell_type": "code",
      "metadata": {
        "id": "qMfo50so2ncr",
        "outputId": "517e0945-60ae-4331-ce77-28884b5c1e03",
        "colab": {
          "base_uri": "https://localhost:8080/",
          "height": 116
        }
      },
      "source": [
        "tf.keras.utils.plot_model(autoencoder, show_shapes=True, show_layer_names=True, rankdir = \"LR\")"
      ],
      "execution_count": 29,
      "outputs": [
        {
          "output_type": "execute_result",
          "data": {
            "image/png": "[encoded data removed]",
            "text/plain": [
              "<IPython.core.display.Image object>"
            ]
          },
          "metadata": {
            "tags": []
          },
          "execution_count": 29
        }
      ]
    },
    {
      "cell_type": "code",
      "metadata": {
        "id": "-ykdmE3rcDgP"
      },
      "source": [
        "callback=[tf.keras.callbacks.EarlyStopping(patience=5, monitor=\"val_loss\", restore_best_weights=True)]"
      ],
      "execution_count": 30,
      "outputs": []
    },
    {
      "cell_type": "code",
      "metadata": {
        "id": "XXMmDKd2cYAW",
        "outputId": "c705fc40-b6ff-4a00-d55a-062b2e40646c",
        "colab": {
          "base_uri": "https://localhost:8080/",
          "height": 1000
        }
      },
      "source": [
        "history = autoencoder.fit(train_input, train_input, epochs = 100, batch_size = BATCH_SIZE, callbacks=callback, validation_split=0.2)"
      ],
      "execution_count": 31,
      "outputs": [
        {
          "output_type": "stream",
          "text": [
            "Train on 20687 samples, validate on 5172 samples\n",
            "Epoch 1/100\n",
            "20687/20687 [==============================] - 3s 124us/sample - loss: 0.1084 - mae: 0.1084 - val_loss: 0.0814 - val_mae: 0.0814\n",
            "Epoch 2/100\n",
            "20687/20687 [==============================] - 1s 71us/sample - loss: 0.0790 - mae: 0.0790 - val_loss: 0.0757 - val_mae: 0.0757\n",
            "Epoch 3/100\n",
            "20687/20687 [==============================] - 1s 71us/sample - loss: 0.0752 - mae: 0.0752 - val_loss: 0.0753 - val_mae: 0.0753\n",
            "Epoch 4/100\n",
            "20687/20687 [==============================] - 2s 76us/sample - loss: 0.0745 - mae: 0.0745 - val_loss: 0.0732 - val_mae: 0.0732\n",
            "Epoch 5/100\n",
            "20687/20687 [==============================] - 1s 71us/sample - loss: 0.0724 - mae: 0.0724 - val_loss: 0.0720 - val_mae: 0.0720\n",
            "Epoch 6/100\n",
            "20687/20687 [==============================] - 1s 69us/sample - loss: 0.0716 - mae: 0.0716 - val_loss: 0.0717 - val_mae: 0.0717\n",
            "Epoch 7/100\n",
            "20687/20687 [==============================] - 1s 71us/sample - loss: 0.0713 - mae: 0.0713 - val_loss: 0.0715 - val_mae: 0.0715\n",
            "Epoch 8/100\n",
            "20687/20687 [==============================] - 1s 67us/sample - loss: 0.0712 - mae: 0.0712 - val_loss: 0.0714 - val_mae: 0.0714\n",
            "Epoch 9/100\n",
            "20687/20687 [==============================] - 1s 68us/sample - loss: 0.0711 - mae: 0.0711 - val_loss: 0.0713 - val_mae: 0.0713\n",
            "Epoch 10/100\n",
            "20687/20687 [==============================] - 1s 69us/sample - loss: 0.0709 - mae: 0.0709 - val_loss: 0.0711 - val_mae: 0.0711\n",
            "Epoch 11/100\n",
            "20687/20687 [==============================] - 1s 69us/sample - loss: 0.0708 - mae: 0.0708 - val_loss: 0.0712 - val_mae: 0.0712\n",
            "Epoch 12/100\n",
            "20687/20687 [==============================] - 1s 67us/sample - loss: 0.0693 - mae: 0.0693 - val_loss: 0.0684 - val_mae: 0.0684\n",
            "Epoch 13/100\n",
            "20687/20687 [==============================] - 1s 67us/sample - loss: 0.0680 - mae: 0.0680 - val_loss: 0.0683 - val_mae: 0.0683\n",
            "Epoch 14/100\n",
            "20687/20687 [==============================] - 1s 69us/sample - loss: 0.0679 - mae: 0.0679 - val_loss: 0.0684 - val_mae: 0.0684\n",
            "Epoch 15/100\n",
            "20687/20687 [==============================] - 1s 66us/sample - loss: 0.0678 - mae: 0.0678 - val_loss: 0.0682 - val_mae: 0.0682\n",
            "Epoch 16/100\n",
            "20687/20687 [==============================] - 1s 67us/sample - loss: 0.0676 - mae: 0.0676 - val_loss: 0.0675 - val_mae: 0.0675\n",
            "Epoch 17/100\n",
            "20687/20687 [==============================] - 1s 67us/sample - loss: 0.0669 - mae: 0.0669 - val_loss: 0.0675 - val_mae: 0.0675\n",
            "Epoch 18/100\n",
            "20687/20687 [==============================] - 1s 72us/sample - loss: 0.0663 - mae: 0.0663 - val_loss: 0.0666 - val_mae: 0.0666\n",
            "Epoch 19/100\n",
            "20687/20687 [==============================] - 1s 67us/sample - loss: 0.0661 - mae: 0.0661 - val_loss: 0.0666 - val_mae: 0.0666\n",
            "Epoch 20/100\n",
            "20687/20687 [==============================] - 1s 70us/sample - loss: 0.0660 - mae: 0.0660 - val_loss: 0.0665 - val_mae: 0.0665\n",
            "Epoch 21/100\n",
            "20687/20687 [==============================] - 1s 68us/sample - loss: 0.0659 - mae: 0.0659 - val_loss: 0.0664 - val_mae: 0.0664\n",
            "Epoch 22/100\n",
            "20687/20687 [==============================] - 1s 67us/sample - loss: 0.0659 - mae: 0.0659 - val_loss: 0.0664 - val_mae: 0.0664\n",
            "Epoch 23/100\n",
            "20687/20687 [==============================] - 1s 66us/sample - loss: 0.0659 - mae: 0.0659 - val_loss: 0.0664 - val_mae: 0.0664\n",
            "Epoch 24/100\n",
            "20687/20687 [==============================] - 1s 69us/sample - loss: 0.0658 - mae: 0.0658 - val_loss: 0.0664 - val_mae: 0.0664\n",
            "Epoch 25/100\n",
            "20687/20687 [==============================] - 1s 69us/sample - loss: 0.0658 - mae: 0.0658 - val_loss: 0.0664 - val_mae: 0.0664\n",
            "Epoch 26/100\n",
            "20687/20687 [==============================] - 1s 69us/sample - loss: 0.0658 - mae: 0.0658 - val_loss: 0.0664 - val_mae: 0.0664\n",
            "Epoch 27/100\n",
            "20687/20687 [==============================] - 1s 71us/sample - loss: 0.0658 - mae: 0.0658 - val_loss: 0.0664 - val_mae: 0.0664\n",
            "Epoch 28/100\n",
            "20687/20687 [==============================] - 1s 72us/sample - loss: 0.0658 - mae: 0.0658 - val_loss: 0.0665 - val_mae: 0.0665\n",
            "Epoch 29/100\n",
            "20687/20687 [==============================] - 1s 69us/sample - loss: 0.0658 - mae: 0.0658 - val_loss: 0.0663 - val_mae: 0.0663\n",
            "Epoch 30/100\n",
            "20687/20687 [==============================] - 1s 69us/sample - loss: 0.0657 - mae: 0.0657 - val_loss: 0.0663 - val_mae: 0.0663\n",
            "Epoch 31/100\n",
            "20687/20687 [==============================] - 1s 70us/sample - loss: 0.0657 - mae: 0.0657 - val_loss: 0.0664 - val_mae: 0.0664\n",
            "Epoch 32/100\n",
            "20687/20687 [==============================] - 1s 68us/sample - loss: 0.0657 - mae: 0.0657 - val_loss: 0.0663 - val_mae: 0.0663\n",
            "Epoch 33/100\n",
            "20687/20687 [==============================] - 1s 68us/sample - loss: 0.0657 - mae: 0.0657 - val_loss: 0.0664 - val_mae: 0.0664\n",
            "Epoch 34/100\n",
            "20687/20687 [==============================] - 1s 67us/sample - loss: 0.0657 - mae: 0.0657 - val_loss: 0.0662 - val_mae: 0.0662\n",
            "Epoch 35/100\n",
            "20687/20687 [==============================] - 1s 70us/sample - loss: 0.0655 - mae: 0.0655 - val_loss: 0.0661 - val_mae: 0.0661\n",
            "Epoch 36/100\n",
            "20687/20687 [==============================] - 1s 68us/sample - loss: 0.0652 - mae: 0.0652 - val_loss: 0.0656 - val_mae: 0.0656\n",
            "Epoch 37/100\n",
            "20687/20687 [==============================] - 1s 72us/sample - loss: 0.0644 - mae: 0.0644 - val_loss: 0.0647 - val_mae: 0.0647\n",
            "Epoch 38/100\n",
            "20687/20687 [==============================] - 1s 71us/sample - loss: 0.0641 - mae: 0.0641 - val_loss: 0.0647 - val_mae: 0.0647\n",
            "Epoch 39/100\n",
            "20687/20687 [==============================] - 1s 70us/sample - loss: 0.0640 - mae: 0.0640 - val_loss: 0.0645 - val_mae: 0.0645\n",
            "Epoch 40/100\n",
            "20687/20687 [==============================] - 1s 69us/sample - loss: 0.0639 - mae: 0.0639 - val_loss: 0.0645 - val_mae: 0.0645\n",
            "Epoch 41/100\n",
            "20687/20687 [==============================] - 2s 74us/sample - loss: 0.0638 - mae: 0.0638 - val_loss: 0.0645 - val_mae: 0.0645\n",
            "Epoch 42/100\n",
            "20687/20687 [==============================] - 1s 70us/sample - loss: 0.0638 - mae: 0.0638 - val_loss: 0.0644 - val_mae: 0.0644\n",
            "Epoch 43/100\n",
            "20687/20687 [==============================] - 1s 69us/sample - loss: 0.0637 - mae: 0.0637 - val_loss: 0.0643 - val_mae: 0.0643\n",
            "Epoch 44/100\n",
            "20687/20687 [==============================] - 1s 68us/sample - loss: 0.0637 - mae: 0.0637 - val_loss: 0.0642 - val_mae: 0.0642\n",
            "Epoch 45/100\n",
            "20687/20687 [==============================] - 1s 71us/sample - loss: 0.0636 - mae: 0.0636 - val_loss: 0.0642 - val_mae: 0.0642\n",
            "Epoch 46/100\n",
            "20687/20687 [==============================] - 2s 73us/sample - loss: 0.0635 - mae: 0.0635 - val_loss: 0.0642 - val_mae: 0.0642\n",
            "Epoch 47/100\n",
            "20687/20687 [==============================] - 2s 74us/sample - loss: 0.0635 - mae: 0.0635 - val_loss: 0.0642 - val_mae: 0.0642\n",
            "Epoch 48/100\n",
            "20687/20687 [==============================] - 1s 68us/sample - loss: 0.0635 - mae: 0.0635 - val_loss: 0.0640 - val_mae: 0.0640\n",
            "Epoch 49/100\n",
            "20687/20687 [==============================] - 1s 69us/sample - loss: 0.0635 - mae: 0.0635 - val_loss: 0.0641 - val_mae: 0.0641\n",
            "Epoch 50/100\n",
            "20687/20687 [==============================] - 1s 66us/sample - loss: 0.0635 - mae: 0.0635 - val_loss: 0.0640 - val_mae: 0.0640\n",
            "Epoch 51/100\n",
            "20687/20687 [==============================] - 1s 68us/sample - loss: 0.0635 - mae: 0.0635 - val_loss: 0.0641 - val_mae: 0.0641\n",
            "Epoch 52/100\n",
            "20687/20687 [==============================] - 1s 68us/sample - loss: 0.0634 - mae: 0.0634 - val_loss: 0.0642 - val_mae: 0.0642\n",
            "Epoch 53/100\n",
            "20687/20687 [==============================] - 1s 66us/sample - loss: 0.0634 - mae: 0.0634 - val_loss: 0.0640 - val_mae: 0.0640\n"
          ],
          "name": "stdout"
        }
      ]
    },
    {
      "cell_type": "markdown",
      "metadata": {
        "id": "u92nk7OX7GNU"
      },
      "source": [
        "## **Reconstructing Test Data**"
      ]
    },
    {
      "cell_type": "code",
      "metadata": {
        "id": "7t5ILbp8xtOS"
      },
      "source": [
        "test_input_paid = sparse.hstack((test_cat_paid, test_num_paid)).toarray()\n",
        "reconstructions_paid = autoencoder.predict(test_input_paid)\n",
        "\n",
        "test_input_default = sparse.hstack((test_cat_default, test_num_default)).toarray()\n",
        "reconstructions_default = autoencoder.predict(test_input_default)"
      ],
      "execution_count": 32,
      "outputs": []
    },
    {
      "cell_type": "code",
      "metadata": {
        "id": "5hE6XtE-BPYv"
      },
      "source": [
        "mae_paid = np.mean(np.abs(test_input_paid - reconstructions_paid), axis=1)\n",
        "mae_default = np.mean(np.abs(test_input_default - reconstructions_default), axis=1)"
      ],
      "execution_count": 33,
      "outputs": []
    },
    {
      "cell_type": "code",
      "metadata": {
        "id": "YEx63CshB4AS",
        "outputId": "1937577d-eeeb-40f2-ceba-56c99b5e9d3b",
        "colab": {
          "base_uri": "https://localhost:8080/",
          "height": 34
        }
      },
      "source": [
        "mae_paid.mean()"
      ],
      "execution_count": 34,
      "outputs": [
        {
          "output_type": "execute_result",
          "data": {
            "text/plain": [
              "0.06436724424654929"
            ]
          },
          "metadata": {
            "tags": []
          },
          "execution_count": 34
        }
      ]
    },
    {
      "cell_type": "code",
      "metadata": {
        "id": "OGZkjaSYE7el",
        "outputId": "5ccbb090-35d6-4f17-f302-0c24e60dfa96",
        "colab": {
          "base_uri": "https://localhost:8080/",
          "height": 34
        }
      },
      "source": [
        "mae_default.mean()"
      ],
      "execution_count": 35,
      "outputs": [
        {
          "output_type": "execute_result",
          "data": {
            "text/plain": [
              "0.10563797903040247"
            ]
          },
          "metadata": {
            "tags": []
          },
          "execution_count": 35
        }
      ]
    },
    {
      "cell_type": "markdown",
      "metadata": {
        "id": "E5d3mPic-gUi"
      },
      "source": [
        "# Future Plan of Action\n",
        "Determine Thresholds\n",
        "\n",
        "Scale this model to larger dataset(Single Family mortgages). Will increase the imbalance which will improve the autoencoder\n",
        "\n",
        "Incorporate external macroeconomic factors\n",
        "\n",
        "Try other architecutres\n",
        "\n",
        "HyperParameter Tuning, Feature Engineering\n"
      ]
    },
    {
      "cell_type": "code",
      "metadata": {
        "id": "HhZuQ_uFJnJs"
      },
      "source": [
        ""
      ],
      "execution_count": 35,
      "outputs": []
    }
  ]
}